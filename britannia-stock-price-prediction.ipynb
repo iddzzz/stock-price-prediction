{
 "cells": [
  {
   "cell_type": "markdown",
   "metadata": {},
   "source": [
    "# Britannia Stock Price Prediction"
   ]
  },
  {
   "cell_type": "code",
   "execution_count": 1,
   "metadata": {},
   "outputs": [],
   "source": [
    "import pandas as pd\n",
    "import matplotlib.pyplot as plt"
   ]
  },
  {
   "cell_type": "code",
   "execution_count": 4,
   "metadata": {},
   "outputs": [
    {
     "data": {
      "text/html": [
       "<div>\n",
       "<style scoped>\n",
       "    .dataframe tbody tr th:only-of-type {\n",
       "        vertical-align: middle;\n",
       "    }\n",
       "\n",
       "    .dataframe tbody tr th {\n",
       "        vertical-align: top;\n",
       "    }\n",
       "\n",
       "    .dataframe thead th {\n",
       "        text-align: right;\n",
       "    }\n",
       "</style>\n",
       "<table border=\"1\" class=\"dataframe\">\n",
       "  <thead>\n",
       "    <tr style=\"text-align: right;\">\n",
       "      <th></th>\n",
       "      <th>Date</th>\n",
       "      <th>Symbol</th>\n",
       "      <th>Series</th>\n",
       "      <th>Prev Close</th>\n",
       "      <th>Open</th>\n",
       "      <th>High</th>\n",
       "      <th>Low</th>\n",
       "      <th>Last</th>\n",
       "      <th>Close</th>\n",
       "      <th>VWAP</th>\n",
       "      <th>Volume</th>\n",
       "      <th>Turnover</th>\n",
       "      <th>Trades</th>\n",
       "      <th>Deliverable Volume</th>\n",
       "      <th>%Deliverble</th>\n",
       "    </tr>\n",
       "  </thead>\n",
       "  <tbody>\n",
       "    <tr>\n",
       "      <th>0</th>\n",
       "      <td>2000-01-03</td>\n",
       "      <td>BRITANNIA</td>\n",
       "      <td>EQ</td>\n",
       "      <td>703.25</td>\n",
       "      <td>705.00</td>\n",
       "      <td>759.50</td>\n",
       "      <td>705.0</td>\n",
       "      <td>758.0</td>\n",
       "      <td>756.90</td>\n",
       "      <td>741.01</td>\n",
       "      <td>7512</td>\n",
       "      <td>5.566488e+11</td>\n",
       "      <td>NaN</td>\n",
       "      <td>NaN</td>\n",
       "      <td>NaN</td>\n",
       "    </tr>\n",
       "    <tr>\n",
       "      <th>1</th>\n",
       "      <td>2000-01-04</td>\n",
       "      <td>BRITANNIA</td>\n",
       "      <td>EQ</td>\n",
       "      <td>756.90</td>\n",
       "      <td>710.00</td>\n",
       "      <td>770.00</td>\n",
       "      <td>710.0</td>\n",
       "      <td>740.0</td>\n",
       "      <td>754.55</td>\n",
       "      <td>742.52</td>\n",
       "      <td>8135</td>\n",
       "      <td>6.040391e+11</td>\n",
       "      <td>NaN</td>\n",
       "      <td>NaN</td>\n",
       "      <td>NaN</td>\n",
       "    </tr>\n",
       "    <tr>\n",
       "      <th>2</th>\n",
       "      <td>2000-01-05</td>\n",
       "      <td>BRITANNIA</td>\n",
       "      <td>EQ</td>\n",
       "      <td>754.55</td>\n",
       "      <td>755.00</td>\n",
       "      <td>759.00</td>\n",
       "      <td>705.0</td>\n",
       "      <td>740.0</td>\n",
       "      <td>735.30</td>\n",
       "      <td>739.92</td>\n",
       "      <td>6095</td>\n",
       "      <td>4.509784e+11</td>\n",
       "      <td>NaN</td>\n",
       "      <td>NaN</td>\n",
       "      <td>NaN</td>\n",
       "    </tr>\n",
       "    <tr>\n",
       "      <th>3</th>\n",
       "      <td>2000-01-06</td>\n",
       "      <td>BRITANNIA</td>\n",
       "      <td>EQ</td>\n",
       "      <td>735.30</td>\n",
       "      <td>740.00</td>\n",
       "      <td>794.15</td>\n",
       "      <td>740.0</td>\n",
       "      <td>770.0</td>\n",
       "      <td>785.65</td>\n",
       "      <td>788.83</td>\n",
       "      <td>19697</td>\n",
       "      <td>1.553756e+12</td>\n",
       "      <td>NaN</td>\n",
       "      <td>NaN</td>\n",
       "      <td>NaN</td>\n",
       "    </tr>\n",
       "    <tr>\n",
       "      <th>4</th>\n",
       "      <td>2000-01-07</td>\n",
       "      <td>BRITANNIA</td>\n",
       "      <td>EQ</td>\n",
       "      <td>785.65</td>\n",
       "      <td>808.00</td>\n",
       "      <td>848.50</td>\n",
       "      <td>798.0</td>\n",
       "      <td>848.5</td>\n",
       "      <td>848.50</td>\n",
       "      <td>827.53</td>\n",
       "      <td>33107</td>\n",
       "      <td>2.739708e+12</td>\n",
       "      <td>NaN</td>\n",
       "      <td>NaN</td>\n",
       "      <td>NaN</td>\n",
       "    </tr>\n",
       "    <tr>\n",
       "      <th>...</th>\n",
       "      <td>...</td>\n",
       "      <td>...</td>\n",
       "      <td>...</td>\n",
       "      <td>...</td>\n",
       "      <td>...</td>\n",
       "      <td>...</td>\n",
       "      <td>...</td>\n",
       "      <td>...</td>\n",
       "      <td>...</td>\n",
       "      <td>...</td>\n",
       "      <td>...</td>\n",
       "      <td>...</td>\n",
       "      <td>...</td>\n",
       "      <td>...</td>\n",
       "      <td>...</td>\n",
       "    </tr>\n",
       "    <tr>\n",
       "      <th>5300</th>\n",
       "      <td>2021-04-26</td>\n",
       "      <td>BRITANNIA</td>\n",
       "      <td>EQ</td>\n",
       "      <td>3650.30</td>\n",
       "      <td>3661.10</td>\n",
       "      <td>3662.00</td>\n",
       "      <td>3531.0</td>\n",
       "      <td>3546.0</td>\n",
       "      <td>3539.20</td>\n",
       "      <td>3558.62</td>\n",
       "      <td>1031406</td>\n",
       "      <td>3.670382e+14</td>\n",
       "      <td>72258.0</td>\n",
       "      <td>507276.0</td>\n",
       "      <td>0.4918</td>\n",
       "    </tr>\n",
       "    <tr>\n",
       "      <th>5301</th>\n",
       "      <td>2021-04-27</td>\n",
       "      <td>BRITANNIA</td>\n",
       "      <td>EQ</td>\n",
       "      <td>3539.20</td>\n",
       "      <td>3572.70</td>\n",
       "      <td>3574.60</td>\n",
       "      <td>3517.0</td>\n",
       "      <td>3546.0</td>\n",
       "      <td>3541.20</td>\n",
       "      <td>3539.42</td>\n",
       "      <td>813608</td>\n",
       "      <td>2.879697e+14</td>\n",
       "      <td>46189.0</td>\n",
       "      <td>322686.0</td>\n",
       "      <td>0.3966</td>\n",
       "    </tr>\n",
       "    <tr>\n",
       "      <th>5302</th>\n",
       "      <td>2021-04-28</td>\n",
       "      <td>BRITANNIA</td>\n",
       "      <td>EQ</td>\n",
       "      <td>3541.20</td>\n",
       "      <td>3488.00</td>\n",
       "      <td>3527.00</td>\n",
       "      <td>3469.0</td>\n",
       "      <td>3470.0</td>\n",
       "      <td>3478.75</td>\n",
       "      <td>3495.13</td>\n",
       "      <td>1498181</td>\n",
       "      <td>5.236339e+14</td>\n",
       "      <td>97170.0</td>\n",
       "      <td>763715.0</td>\n",
       "      <td>0.5098</td>\n",
       "    </tr>\n",
       "    <tr>\n",
       "      <th>5303</th>\n",
       "      <td>2021-04-29</td>\n",
       "      <td>BRITANNIA</td>\n",
       "      <td>EQ</td>\n",
       "      <td>3478.75</td>\n",
       "      <td>3496.75</td>\n",
       "      <td>3505.90</td>\n",
       "      <td>3447.0</td>\n",
       "      <td>3464.0</td>\n",
       "      <td>3468.90</td>\n",
       "      <td>3471.18</td>\n",
       "      <td>611087</td>\n",
       "      <td>2.121195e+14</td>\n",
       "      <td>41655.0</td>\n",
       "      <td>309653.0</td>\n",
       "      <td>0.5067</td>\n",
       "    </tr>\n",
       "    <tr>\n",
       "      <th>5304</th>\n",
       "      <td>2021-04-30</td>\n",
       "      <td>BRITANNIA</td>\n",
       "      <td>EQ</td>\n",
       "      <td>3468.90</td>\n",
       "      <td>3460.00</td>\n",
       "      <td>3468.35</td>\n",
       "      <td>3437.0</td>\n",
       "      <td>3444.8</td>\n",
       "      <td>3449.00</td>\n",
       "      <td>3450.52</td>\n",
       "      <td>436187</td>\n",
       "      <td>1.505071e+14</td>\n",
       "      <td>34606.0</td>\n",
       "      <td>208365.0</td>\n",
       "      <td>0.4777</td>\n",
       "    </tr>\n",
       "  </tbody>\n",
       "</table>\n",
       "<p>5305 rows × 15 columns</p>\n",
       "</div>"
      ],
      "text/plain": [
       "            Date     Symbol Series  Prev Close     Open     High     Low  \\\n",
       "0     2000-01-03  BRITANNIA     EQ      703.25   705.00   759.50   705.0   \n",
       "1     2000-01-04  BRITANNIA     EQ      756.90   710.00   770.00   710.0   \n",
       "2     2000-01-05  BRITANNIA     EQ      754.55   755.00   759.00   705.0   \n",
       "3     2000-01-06  BRITANNIA     EQ      735.30   740.00   794.15   740.0   \n",
       "4     2000-01-07  BRITANNIA     EQ      785.65   808.00   848.50   798.0   \n",
       "...          ...        ...    ...         ...      ...      ...     ...   \n",
       "5300  2021-04-26  BRITANNIA     EQ     3650.30  3661.10  3662.00  3531.0   \n",
       "5301  2021-04-27  BRITANNIA     EQ     3539.20  3572.70  3574.60  3517.0   \n",
       "5302  2021-04-28  BRITANNIA     EQ     3541.20  3488.00  3527.00  3469.0   \n",
       "5303  2021-04-29  BRITANNIA     EQ     3478.75  3496.75  3505.90  3447.0   \n",
       "5304  2021-04-30  BRITANNIA     EQ     3468.90  3460.00  3468.35  3437.0   \n",
       "\n",
       "        Last    Close     VWAP   Volume      Turnover   Trades  \\\n",
       "0      758.0   756.90   741.01     7512  5.566488e+11      NaN   \n",
       "1      740.0   754.55   742.52     8135  6.040391e+11      NaN   \n",
       "2      740.0   735.30   739.92     6095  4.509784e+11      NaN   \n",
       "3      770.0   785.65   788.83    19697  1.553756e+12      NaN   \n",
       "4      848.5   848.50   827.53    33107  2.739708e+12      NaN   \n",
       "...      ...      ...      ...      ...           ...      ...   \n",
       "5300  3546.0  3539.20  3558.62  1031406  3.670382e+14  72258.0   \n",
       "5301  3546.0  3541.20  3539.42   813608  2.879697e+14  46189.0   \n",
       "5302  3470.0  3478.75  3495.13  1498181  5.236339e+14  97170.0   \n",
       "5303  3464.0  3468.90  3471.18   611087  2.121195e+14  41655.0   \n",
       "5304  3444.8  3449.00  3450.52   436187  1.505071e+14  34606.0   \n",
       "\n",
       "      Deliverable Volume  %Deliverble  \n",
       "0                    NaN          NaN  \n",
       "1                    NaN          NaN  \n",
       "2                    NaN          NaN  \n",
       "3                    NaN          NaN  \n",
       "4                    NaN          NaN  \n",
       "...                  ...          ...  \n",
       "5300            507276.0       0.4918  \n",
       "5301            322686.0       0.3966  \n",
       "5302            763715.0       0.5098  \n",
       "5303            309653.0       0.5067  \n",
       "5304            208365.0       0.4777  \n",
       "\n",
       "[5305 rows x 15 columns]"
      ]
     },
     "execution_count": 4,
     "metadata": {},
     "output_type": "execute_result"
    }
   ],
   "source": [
    "# Impor data\n",
    "df_ori = pd.read_csv('BRITANNIA.csv')\n",
    "df_ori"
   ]
  },
  {
   "cell_type": "code",
   "execution_count": 5,
   "metadata": {},
   "outputs": [
    {
     "name": "stdout",
     "output_type": "stream",
     "text": [
      "<class 'pandas.core.frame.DataFrame'>\n",
      "RangeIndex: 5305 entries, 0 to 5304\n",
      "Data columns (total 15 columns):\n",
      " #   Column              Non-Null Count  Dtype  \n",
      "---  ------              --------------  -----  \n",
      " 0   Date                5305 non-null   object \n",
      " 1   Symbol              5305 non-null   object \n",
      " 2   Series              5305 non-null   object \n",
      " 3   Prev Close          5305 non-null   float64\n",
      " 4   Open                5305 non-null   float64\n",
      " 5   High                5305 non-null   float64\n",
      " 6   Low                 5305 non-null   float64\n",
      " 7   Last                5305 non-null   float64\n",
      " 8   Close               5305 non-null   float64\n",
      " 9   VWAP                5305 non-null   float64\n",
      " 10  Volume              5305 non-null   int64  \n",
      " 11  Turnover            5305 non-null   float64\n",
      " 12  Trades              2456 non-null   float64\n",
      " 13  Deliverable Volume  4796 non-null   float64\n",
      " 14  %Deliverble         4796 non-null   float64\n",
      "dtypes: float64(11), int64(1), object(3)\n",
      "memory usage: 621.8+ KB\n"
     ]
    }
   ],
   "source": [
    "df_ori.info()"
   ]
  },
  {
   "cell_type": "markdown",
   "metadata": {},
   "source": [
    "## Data Cleaning"
   ]
  },
  {
   "cell_type": "code",
   "execution_count": 12,
   "metadata": {},
   "outputs": [
    {
     "data": {
      "text/plain": [
       "Date\n",
       "2014-01-01     920.60\n",
       "2014-01-02     918.45\n",
       "2014-01-03     909.20\n",
       "2014-01-06     916.85\n",
       "2014-01-07     908.90\n",
       "               ...   \n",
       "2014-12-24    1764.10\n",
       "2014-12-26    1755.40\n",
       "2014-12-29    1731.15\n",
       "2014-12-30    1780.20\n",
       "2014-12-31    1784.00\n",
       "Name: Prev Close, Length: 244, dtype: float64"
      ]
     },
     "execution_count": 12,
     "metadata": {},
     "output_type": "execute_result"
    }
   ],
   "source": [
    "# Kita akan spesifik menggunakan data Prev Close pada 2014\n",
    "df = df_ori['Prev Close']\n",
    "df.index = pd.to_datetime(df_ori.Date)\n",
    "df = df['2014-01-01':'2014-12-31']\n",
    "df"
   ]
  },
  {
   "cell_type": "code",
   "execution_count": 13,
   "metadata": {},
   "outputs": [
    {
     "data": {
      "image/png": "[encoded data removed]",
      "text/plain": [
       "<Figure size 432x288 with 1 Axes>"
      ]
     },
     "metadata": {
      "needs_background": "light"
     },
     "output_type": "display_data"
    }
   ],
   "source": [
    "plt.plot(df)\n",
    "plt.show()"
   ]
  },
  {
   "cell_type": "code",
   "execution_count": 26,
   "metadata": {},
   "outputs": [
    {
     "data": {
      "text/plain": [
       "'freq=None'"
      ]
     },
     "execution_count": 26,
     "metadata": {},
     "output_type": "execute_result"
    }
   ],
   "source": [
    "if df.index.freq is None:\n",
    "    freq = pd.infer_freq(df.index)\n",
    "    df.index.freq = pd.tseries.frequencies.to_offset(freq)\n",
    "\n",
    "'freq=None' if df.index.freq is None else df.index.freq"
   ]
  },
  {
   "cell_type": "code",
   "execution_count": 28,
   "metadata": {},
   "outputs": [
    {
     "data": {
      "text/plain": [
       "Date\n",
       "2014-01-01     920.600000\n",
       "2014-01-02     918.450000\n",
       "2014-01-03     909.200000\n",
       "2014-01-04     911.750000\n",
       "2014-01-05     914.300000\n",
       "                 ...     \n",
       "2014-12-27    1747.316667\n",
       "2014-12-28    1739.233333\n",
       "2014-12-29    1731.150000\n",
       "2014-12-30    1780.200000\n",
       "2014-12-31    1784.000000\n",
       "Freq: D, Name: Prev Close, Length: 365, dtype: float64"
      ]
     },
     "execution_count": 28,
     "metadata": {},
     "output_type": "execute_result"
    }
   ],
   "source": [
    "df = df.asfreq(freq='D')\n",
    "df.interpolate(inplace=True)\n",
    "df"
   ]
  },
  {
   "cell_type": "markdown",
   "metadata": {},
   "source": [
    "## Stationarity Check"
   ]
  },
  {
   "cell_type": "code",
   "execution_count": 32,
   "metadata": {},
   "outputs": [
    {
     "data": {
      "image/png": "[encoded data removed]",
      "text/plain": [
       "<Figure size 864x432 with 1 Axes>"
      ]
     },
     "metadata": {
      "needs_background": "light"
     },
     "output_type": "display_data"
    }
   ],
   "source": [
    "rollingmean = df.rolling(14).mean()\n",
    "rollingstd = df.rolling(14).std()\n",
    "\n",
    "plt.figure(figsize=(12, 6))\n",
    "plt.plot(df, label='Original')\n",
    "plt.plot(rollingmean, label='Mean')\n",
    "plt.plot(rollingstd, label='std')\n",
    "plt.show()"
   ]
  },
  {
   "cell_type": "code",
   "execution_count": null,
   "metadata": {},
   "outputs": [],
   "source": []
  }
 ],
 "metadata": {
  "kernelspec": {
   "display_name": "Python 3",
   "language": "python",
   "name": "python3"
  },
  "language_info": {
   "codemirror_mode": {
    "name": "ipython",
    "version": 3
   },
   "file_extension": ".py",
   "mimetype": "text/x-python",
   "name": "python",
   "nbconvert_exporter": "python",
   "pygments_lexer": "ipython3",
   "version": "3.9.7"
  }
 },
 "nbformat": 4,
 "nbformat_minor": 4
}
